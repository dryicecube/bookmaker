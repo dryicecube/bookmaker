{
 "cells": [
  {
   "cell_type": "code",
   "execution_count": 1,
   "id": "fe041725",
   "metadata": {},
   "outputs": [],
   "source": [
    "import pandas as pd;\n",
    "import os;"
   ]
  },
  {
   "cell_type": "code",
   "execution_count": 2,
   "id": "f137a4e7",
   "metadata": {},
   "outputs": [
    {
     "name": "stdout",
     "output_type": "stream",
     "text": [
      "/Users/vivaldi/Documents/GitHub.nosync/Factorial/images\n"
     ]
    }
   ],
   "source": [
    "print(os.getcwd());"
   ]
  },
  {
   "cell_type": "code",
   "execution_count": 3,
   "id": "c7c25c94",
   "metadata": {},
   "outputs": [],
   "source": [
    "data1 = pd.read_csv('./R1.csv')\n",
    "data2 = pd.read_csv('./R1Imgs.csv')"
   ]
  },
  {
   "cell_type": "code",
   "execution_count": 4,
   "id": "231cc2f4",
   "metadata": {},
   "outputs": [],
   "source": [
    "output4 = pd.merge(data1, data2,\n",
    "\t\t\t\ton='OLID',\n",
    "\t\t\t\thow='outer')\n",
    "output4.drop('title', axis=1, inplace=True)"
   ]
  },
  {
   "cell_type": "code",
   "execution_count": 5,
   "id": "72ab6ea9",
   "metadata": {},
   "outputs": [
    {
     "data": {
      "text/plain": [
       "<bound method NDFrame.head of       Sr Again                            Author         OLID  \\\n",
       "0      1   Yes               Neil DeGrasse Tyson  OL27711220M   \n",
       "1      2    No               Neil DeGrasse Tyson  OL17710047W   \n",
       "2      3   Yes  Hector Garcia, Francesc Miralles  OL19714233W   \n",
       "3      4    No    Neil DeGrasse Tyson, Avis Lang  OL19331960W   \n",
       "4      5    No                  Robert L Picconi   OL4288870W   \n",
       "..   ...   ...                               ...          ...   \n",
       "98    96    No                      Matt Richtel  OL28313034M   \n",
       "99    97    No                    Anthony Beevor   OL1881615W   \n",
       "100   98    No            Thomas Gryta, Ted Mann  OL20934761W   \n",
       "101   99   NaN                     David Hoffman  OL23223452M   \n",
       "102  100   NaN                         G H Hardy  OL11373174W   \n",
       "\n",
       "                                   Book Tags  \\\n",
       "0        Letters from an Astrophysicist    ®   \n",
       "1    Astrophysics for People in a Hurry  NaN   \n",
       "2                                Ikigai    ®   \n",
       "3                      Accessory to War    ®   \n",
       "4                 Einstein for Everyone  NaN   \n",
       "..                                  ...  ...   \n",
       "98                   An Elegant Defense    ®   \n",
       "99                                D-Day  NaN   \n",
       "100                          Lights Out  NaN   \n",
       "101                           Dead Hand    ®   \n",
       "102            A Mathematicians Apology  NaN   \n",
       "\n",
       "                                                   Abt     coverId  \n",
       "0    A world view from the eyes of a Physicist as h...   9144852.0  \n",
       "1    The title is very self explanatory. A very beg...   7984709.0  \n",
       "2                                                Peace  11300391.0  \n",
       "3    A history on how space science and defence res...   8443277.0  \n",
       "4    A very pre beginners guide to Einstein’s works...    474440.0  \n",
       "..                                                 ...         ...  \n",
       "98   A full detailed description of the Immune Syst...  10242345.0  \n",
       "99                                         Read Title.  12457682.0  \n",
       "100  Pride, Delusion, Rise & Fall of General Electr...  10302078.0  \n",
       "101  A brief history of the Cold War in context of ...   7930278.0  \n",
       "102  A formal justification & defence of how mathem...   9753744.0  \n",
       "\n",
       "[103 rows x 8 columns]>"
      ]
     },
     "execution_count": 5,
     "metadata": {},
     "output_type": "execute_result"
    }
   ],
   "source": [
    "output4.head"
   ]
  },
  {
   "cell_type": "code",
   "execution_count": 6,
   "id": "addcda98",
   "metadata": {},
   "outputs": [],
   "source": [
    "output4.to_csv('R1Final.csv', index=False, na_rep='0')"
   ]
  },
  {
   "cell_type": "code",
   "execution_count": null,
   "id": "4f9d5561",
   "metadata": {},
   "outputs": [],
   "source": []
  }
 ],
 "metadata": {
  "kernelspec": {
   "display_name": "Python 3",
   "language": "python",
   "name": "python3"
  },
  "language_info": {
   "codemirror_mode": {
    "name": "ipython",
    "version": 3
   },
   "file_extension": ".py",
   "mimetype": "text/x-python",
   "name": "python",
   "nbconvert_exporter": "python",
   "pygments_lexer": "ipython3",
   "version": "3.10.9 (main, Dec 15 2022, 17:11:09) [Clang 14.0.0 (clang-1400.0.29.202)]"
  },
  "vscode": {
   "interpreter": {
    "hash": "b0fa6594d8f4cbf19f97940f81e996739fb7646882a419484c72d19e05852a7e"
   }
  }
 },
 "nbformat": 4,
 "nbformat_minor": 5
}
